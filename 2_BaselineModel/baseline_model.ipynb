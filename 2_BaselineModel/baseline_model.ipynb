{
  "cells": [
    {
      "cell_type": "markdown",
      "metadata": {
        "id": "pZ135OsrZUuN"
      },
      "source": [
        "# Baseline Model\n",
        "\n",
        "## Table of Contents\n",
        "1. [Model Choice](#model-choice)\n",
        "2. [Feature Selection](#feature-selection)\n",
        "3. [Implementation](#implementation)\n",
        "4. [Evaluation](#evaluation)\n"
      ]
    },
    {
      "cell_type": "code",
      "execution_count": null,
      "metadata": {
        "id": "Mj2zwB88ZUuQ"
      },
      "outputs": [],
      "source": [
        "# Import necessary libraries\n",
        "import pandas as pd\n",
        "import numpy as np\n",
        "from sklearn.model_selection import train_test_split\n",
        "from sklearn.metrics import accuracy_score, mean_squared_error\n",
        "# Import your chosen baseline model\n",
        "# Example: from sklearn.linear_model import LogisticRegression\n"
      ]
    },
    {
      "cell_type": "markdown",
      "metadata": {
        "id": "Z575R-65ZUuS"
      },
      "source": [
        "## Model Choice\n",
        "\n",
        "We chose a decision tree model because of its simplicity and interpretability. Since we are dealing with a classification problem, a tree-based approach allows for enhanced feature selection. Moreover, it is applicable to both categorical and numerical data, which we have, without the need for\n",
        "preprocessing, and it can also recognize nonlinear relationships.\n",
        "\n"
      ]
    },
    {
      "cell_type": "markdown",
      "metadata": {
        "id": "Rl3nyU-SZUuT"
      },
      "source": [
        "## Feature Selection\n",
        "\n",
        "We are exploiting our model using all available variables, afterwards we will apply a SHAP method in order to indentify the more and less important features for the target variable."
      ]
    },
    {
      "cell_type": "markdown",
      "source": [],
      "metadata": {
        "id": "NIezOz5Zgcp4"
      }
    },
    {
      "cell_type": "code",
      "execution_count": null,
      "metadata": {
        "id": "j9dYi-AbZUuT"
      },
      "outputs": [],
      "source": [
        "# Load the dataset\n",
        "# Replace 'your_dataset.csv' with the path to your actual dataset\n",
        "df = pd.read_csv('your_dataset.csv')\n",
        "\n",
        "# Feature selection\n",
        "# Example: Selecting only two features for a simple baseline model\n",
        "X = df[['feature1', 'feature2']]\n",
        "y = df['target_variable']\n",
        "\n",
        "# Splitting the dataset\n",
        "X_train, X_test, y_train, y_test = train_test_split(X, y, test_size=0.2, random_state=42)\n"
      ]
    },
    {
      "cell_type": "markdown",
      "metadata": {
        "id": "_rtyTgheZUuT"
      },
      "source": [
        "## Implementation\n",
        "\n"
      ]
    },
    {
      "cell_type": "code",
      "execution_count": null,
      "metadata": {
        "id": "RRlSmzWOZUuT"
      },
      "outputs": [],
      "source": [
        "# Initialize and train the baseline model\n",
        "# Example for a classification problem using Logistic Regression\n",
        "# model = LogisticRegression()\n",
        "# model.fit(X_train, y_train)\n",
        "\n",
        "# Your implementation code here\n"
      ]
    },
    {
      "cell_type": "markdown",
      "metadata": {
        "id": "koRrWiGDZUuU"
      },
      "source": [
        "## Evaluation\n",
        "\n",
        "\n",
        "\n"
      ]
    },
    {
      "cell_type": "code",
      "execution_count": null,
      "metadata": {
        "id": "i0vSvHlhZUuU"
      },
      "outputs": [],
      "source": [
        "# Evaluate the baseline model\n",
        "# Example for a classification problem\n",
        "# y_pred = model.predict(X_test)\n",
        "# accuracy = accuracy_score(y_test, y_pred)\n",
        "\n",
        "# For a regression problem, you might use:\n",
        "# mse = mean_squared_error(y_test, y_pred)\n",
        "\n",
        "# Your evaluation code here\n"
      ]
    }
  ],
  "metadata": {
    "language_info": {
      "name": "python"
    },
    "colab": {
      "provenance": []
    }
  },
  "nbformat": 4,
  "nbformat_minor": 0
}